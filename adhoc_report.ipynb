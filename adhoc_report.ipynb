{
 "cells": [
  {
   "cell_type": "markdown",
   "id": "646c4e05",
   "metadata": {},
   "source": [
    "# Ad-Hoc Reporting\n",
    "\n",
    "Utilize your `sqlite3` and `pandas` knowledge to query your database and generate visualizations! \n",
    "\n",
    "After completing your report, answer the 4 analytical questions below. Remember that we expect comprehensive numerical detail! "
   ]
  },
  {
   "cell_type": "code",
   "execution_count": null,
   "id": "bb47ec90",
   "metadata": {},
   "outputs": [],
   "source": [
    "import sqlite3\n",
    "\n",
    "import pandas as pd \n",
    "\n",
    "import seaborn as sns\n",
    "import matplotlib.pyplot as plt"
   ]
  },
  {
   "cell_type": "code",
   "execution_count": null,
   "id": "c27a1dbe",
   "metadata": {},
   "outputs": [],
   "source": [
    "# TODO: Set up a connection the \"Market.db\" database\n",
    "...\n",
    "\n",
    "# TODO: Set up the cursor\n",
    "..."
   ]
  },
  {
   "cell_type": "markdown",
   "id": "bdda1f0a",
   "metadata": {},
   "source": [
    "### Question 1 : Total Products Less than €10\n",
    "\n",
    "How many products in our Products table cost less than 10 EUR?\n",
    "\n",
    "**Hint**: You can apply an aggregate function to an entire table."
   ]
  },
  {
   "cell_type": "code",
   "execution_count": null,
   "id": "736830a8",
   "metadata": {},
   "outputs": [],
   "source": [
    "# TODO: Write a SQL query which will answer the question above.\n",
    "cursor.execute(\"\"\"\n",
    "    ...\n",
    "\"\"\")\n",
    "\n",
    "rows = cursor.fetchall()\n",
    "print(rows)"
   ]
  },
  {
   "cell_type": "markdown",
   "id": "a12866fc",
   "metadata": {},
   "source": [
    "### Question 2 : Most Frequent Country by Supplier\n",
    "\n",
    "What is the most common country of origin in our Suppliers table? Sort your output in descending order.\n",
    "\n",
    "**Hint**: `GROUP BY` can be used to calculate grouped aggregates."
   ]
  },
  {
   "cell_type": "code",
   "execution_count": null,
   "id": "1e03d56e",
   "metadata": {},
   "outputs": [],
   "source": [
    "# TODO: Write a SQL query which will answer the question above.\n",
    "cursor.execute(\"\"\"\n",
    "    ...\n",
    "\"\"\")\n",
    "\n",
    "# TODO: Fetch your list of tuples and print it out\n",
    "rows = ...\n",
    "print(...)"
   ]
  },
  {
   "cell_type": "code",
   "execution_count": null,
   "id": "83f583d6",
   "metadata": {},
   "outputs": [],
   "source": [
    "# TODO: Convert your list of tuples to a dataframe\n",
    "df = pd.DataFrame(..., columns=['...'])\n",
    "\n",
    "# TODO: Generate a visualization on this dataframe\n",
    "..."
   ]
  },
  {
   "cell_type": "markdown",
   "id": "ed35c985",
   "metadata": {},
   "source": [
    "### Question 3 : Most Frequent Country by Customer\n",
    "\n",
    "What is the most common country of origin in our Customers table? Sort your output in descending order.\n",
    "\n",
    "**Hint**: `GROUP BY` can be used to calculate grouped aggregates."
   ]
  },
  {
   "cell_type": "code",
   "execution_count": null,
   "id": "cc5f2ac6",
   "metadata": {},
   "outputs": [],
   "source": [
    "# TODO: Write a SQL query which will answer the question above.\n",
    "...\n",
    "\n",
    "# TODO: Fetch your list of tuples and print it out\n",
    "..."
   ]
  },
  {
   "cell_type": "code",
   "execution_count": null,
   "id": "b277ab0d",
   "metadata": {},
   "outputs": [],
   "source": [
    "# TODO: Convert your list of tuples to a dataframe\n",
    "df = pd.DataFrame(..., columns=['...'])\n",
    "\n",
    "# TODO: Generate a visualization on this dataframe\n",
    "..."
   ]
  },
  {
   "cell_type": "markdown",
   "id": "6ff142e3",
   "metadata": {},
   "source": [
    "### Question 4 : Least Popular Products by Quantity\n",
    "\n",
    "What are the least popular products by order quantity? Limit your output to the bottom 20 products. Sort this table in ascending order and be sure to include the product name in your output and visualizations.\n",
    "\n",
    "**Hint**: You will have to perform a join to calculate this answer."
   ]
  },
  {
   "cell_type": "code",
   "execution_count": null,
   "id": "0d6d187c",
   "metadata": {},
   "outputs": [],
   "source": [
    "# TODO: Write a SQL query which will answer the question above.\n",
    "...\n",
    "\n",
    "# TODO: Fetch your list of tuples and print it out\n",
    "..."
   ]
  },
  {
   "cell_type": "code",
   "execution_count": null,
   "id": "dea03e07",
   "metadata": {},
   "outputs": [],
   "source": [
    "# TODO: Convert your list of tuples to a dataframe\n",
    "...\n",
    "\n",
    "# TODO: Generate a visualization on this dataframe\n",
    "..."
   ]
  },
  {
   "cell_type": "markdown",
   "id": "faab5e1c",
   "metadata": {},
   "source": [
    "### Question 5 : Least Popular Products by Revenue\n",
    "\n",
    "What are the least popular products by **total revenue** (order quantity * price)? Sort this table in ascending order and be sure to include the product name in your output and visualizations.\n",
    "\n",
    "**Hint**: You will have to perform a join to calculate this answer."
   ]
  },
  {
   "cell_type": "code",
   "execution_count": null,
   "id": "2d84d2b4",
   "metadata": {},
   "outputs": [],
   "source": [
    "# TODO: Write a SQL query which will answer the question above.\n",
    "...\n",
    "\n",
    "# TODO: Fetch your list of tuples and print it out\n",
    "..."
   ]
  },
  {
   "cell_type": "code",
   "execution_count": null,
   "id": "d22296d4",
   "metadata": {},
   "outputs": [],
   "source": [
    "# TODO: Convert your list of tuples to a dataframe\n",
    "...\n",
    "\n",
    "# TODO: Generate a visualization on this dataframe\n",
    "..."
   ]
  },
  {
   "cell_type": "markdown",
   "id": "81d0606f",
   "metadata": {},
   "source": [
    "### Question 6 : Countries with the Most Orders\n",
    "\n",
    "Which country's have placed the most orders? For each country, list its' name in your output and visualizations.\n",
    "\n",
    "**Hint**: You will have to perform a join to calculate this answer."
   ]
  },
  {
   "cell_type": "code",
   "execution_count": null,
   "id": "548ba970",
   "metadata": {},
   "outputs": [],
   "source": [
    "# TODO: Write a SQL query which will answer the question above.\n",
    "...\n",
    "\n",
    "# TODO: Fetch your list of tuples and print it out\n",
    "..."
   ]
  },
  {
   "cell_type": "code",
   "execution_count": null,
   "id": "a825aa06",
   "metadata": {},
   "outputs": [],
   "source": [
    "# TODO: Convert your list of tuples to a dataframe\n",
    "...\n",
    "\n",
    "# TODO: Generate a visualization on this dataframe\n",
    "..."
   ]
  },
  {
   "cell_type": "markdown",
   "id": "72c9b165",
   "metadata": {},
   "source": [
    "### Question 7 : Countries with Customers Who Do Not Order\n",
    "\n",
    "Which countries have at least one customer who has placed **no** orders? Count up the total number of customers who have placed no orders for each respective country. For each country, list its' name in your output and visualizations.\n",
    "\n",
    "**Hint**: A join is necessary. We can also check if a column is `NULL` using the `IS` keyword."
   ]
  },
  {
   "cell_type": "code",
   "execution_count": null,
   "id": "ea327c53",
   "metadata": {},
   "outputs": [],
   "source": [
    "# TODO: Write a SQL query which will answer the question above.\n",
    "...\n",
    "\n",
    "# TODO: Fetch your list of tuples and print it out\n",
    "..."
   ]
  },
  {
   "cell_type": "code",
   "execution_count": null,
   "id": "ba356a26",
   "metadata": {},
   "outputs": [],
   "source": [
    "# TODO: Convert your list of tuples to a dataframe\n",
    "...\n",
    "\n",
    "# TODO: Generate a visualization on this dataframe\n",
    "..."
   ]
  },
  {
   "cell_type": "markdown",
   "id": "679892a1",
   "metadata": {},
   "source": [
    "### Question 8 : Most Popular Suppliers\n",
    "\n",
    "What are the most popular suppliers according to order count? List the supplier names and their number of orders. Sort your output in descending order.\n",
    "\n",
    "**Hint**: You might need to use a subquery to join more than 2 tables together."
   ]
  },
  {
   "cell_type": "code",
   "execution_count": null,
   "id": "0f834d94",
   "metadata": {},
   "outputs": [],
   "source": [
    "# TODO: Write a SQL query which will answer the question above.\n",
    "...\n",
    "\n",
    "# TODO: Fetch your list of tuples and print it out\n",
    "..."
   ]
  },
  {
   "cell_type": "code",
   "execution_count": null,
   "id": "95621abb",
   "metadata": {},
   "outputs": [],
   "source": [
    "# TODO: Convert your list of tuples to a dataframe\n",
    "...\n",
    "\n",
    "# TODO: Generate a visualization on this dataframe\n",
    "..."
   ]
  },
  {
   "cell_type": "markdown",
   "id": "1b48d365",
   "metadata": {},
   "source": [
    "## Report\n",
    "\n",
    "Answer the following analytical questions using numerical evidence."
   ]
  },
  {
   "cell_type": "markdown",
   "id": "8a98935f",
   "metadata": {},
   "source": [
    "### Question 1\n",
    "\n",
    "Which countries have the greatest number of customers? How does this correlate with the number of suppliers by country (i.e. do more customers lead to less or more suppliers)? Which evidence supports your answer?\n",
    "\n",
    "[Answer Here]"
   ]
  },
  {
   "cell_type": "markdown",
   "id": "1b5d6703",
   "metadata": {},
   "source": [
    "### Question 2\n",
    "\n",
    "What is the least popular product by order quantity? How does this correlate with revenue (i.e. do less popular products by quantity lead to less or more revenue)? Which evidence supports your answer?\n",
    "\n",
    "[Answer Here]"
   ]
  },
  {
   "cell_type": "markdown",
   "id": "29c46ddc",
   "metadata": {},
   "source": [
    "### Question 3\n",
    "\n",
    "Which country has the most orders? How does this correlate with the number of customers who do not order (i.e. do countries with more ordering customers have more or less non-ordering customers)? Which evidence supports your answer?\n",
    "\n",
    "[Answer Here]"
   ]
  },
  {
   "cell_type": "markdown",
   "id": "d3b8df87",
   "metadata": {},
   "source": [
    "### Question 4\n",
    "\n",
    "Which supplier has the most orders? Which evidence supports your answer?\n",
    "\n",
    "[Answer Here]"
   ]
  }
 ],
 "metadata": {
  "kernelspec": {
   "display_name": "ds",
   "language": "python",
   "name": "python3"
  },
  "language_info": {
   "codemirror_mode": {
    "name": "ipython",
    "version": 3
   },
   "file_extension": ".py",
   "mimetype": "text/x-python",
   "name": "python",
   "nbconvert_exporter": "python",
   "pygments_lexer": "ipython3",
   "version": "3.12.9"
  }
 },
 "nbformat": 4,
 "nbformat_minor": 5
}
